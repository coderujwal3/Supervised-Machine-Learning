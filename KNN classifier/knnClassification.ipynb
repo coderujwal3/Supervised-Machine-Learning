{
 "cells": [
  {
   "cell_type": "code",
   "execution_count": 1,
   "id": "c5f22ddb",
   "metadata": {},
   "outputs": [],
   "source": [
    "import pandas as pd\n",
    "from sklearn.preprocessing import LabelEncoder\n",
    "from sklearn.neighbors import KNeighborsClassifier"
   ]
  },
  {
   "cell_type": "code",
   "execution_count": 2,
   "id": "9ba764a7",
   "metadata": {},
   "outputs": [
    {
     "name": "stdout",
     "output_type": "stream",
     "text": [
      "   grams  size   fruit\n",
      "0    180   7.0   apple\n",
      "1    200   7.5   apple\n",
      "2    250   8.0   apple\n",
      "3    300   8.5  orange\n",
      "4    350   9.0  orange\n",
      "5    360   9.5  orange\n"
     ]
    }
   ],
   "source": [
    "df = pd.DataFrame({\n",
    "    \"grams\": [180, 200, 250, 300, 350, 360],\n",
    "    \"size\": [7, 7.5, 8, 8.5, 9, 9.5],\n",
    "    \"fruit\": ['apple','apple','apple','orange','orange', 'orange']\n",
    "})\n",
    "print(df)"
   ]
  },
  {
   "cell_type": "code",
   "execution_count": 3,
   "id": "6ba29b4d",
   "metadata": {},
   "outputs": [
    {
     "name": "stdout",
     "output_type": "stream",
     "text": [
      "   grams  size   fruit  fruit_encoded\n",
      "0    180   7.0   apple              0\n",
      "1    200   7.5   apple              0\n",
      "2    250   8.0   apple              0\n",
      "3    300   8.5  orange              1\n",
      "4    350   9.0  orange              1\n",
      "5    360   9.5  orange              1\n"
     ]
    }
   ],
   "source": [
    "le = LabelEncoder()\n",
    "df['fruit_encoded'] = le.fit_transform(df['fruit'])     # 0: apple & 1: orange\n",
    "print(df)"
   ]
  },
  {
   "cell_type": "code",
   "execution_count": null,
   "id": "d5733584",
   "metadata": {},
   "outputs": [
    {
     "name": "stdout",
     "output_type": "stream",
     "text": [
      "According to the weight and size (140.0, 4.0), it is likely to be a Apple\n"
     ]
    }
   ],
   "source": [
    "X = df[['grams', 'size']].values\n",
    "y = df[\"fruit_encoded\"]\n",
    "\n",
    "knn = KNeighborsClassifier(n_neighbors=3)\n",
    "knn.fit(X, y)\n",
    "\n",
    "weight = float(input(\"Enter the weight of fruit (in grams): \"))\n",
    "size = float(input(\"Enter the size of fruit (in cm): \"))\n",
    "\n",
    "prediction = knn.predict([[weight, size]])[0]\n",
    "\n",
    "if prediction == 0:\n",
    "    print(f\"According to the weight and size {weight, size}, it is likely to be an Apple\")\n",
    "else:\n",
    "    print(f\"According to the weight and size {weight, size}, it is likely to be an Orange\")"
   ]
  }
 ],
 "metadata": {
  "kernelspec": {
   "display_name": ".venv",
   "language": "python",
   "name": "python3"
  },
  "language_info": {
   "codemirror_mode": {
    "name": "ipython",
    "version": 3
   },
   "file_extension": ".py",
   "mimetype": "text/x-python",
   "name": "python",
   "nbconvert_exporter": "python",
   "pygments_lexer": "ipython3",
   "version": "3.13.7"
  }
 },
 "nbformat": 4,
 "nbformat_minor": 5
}
