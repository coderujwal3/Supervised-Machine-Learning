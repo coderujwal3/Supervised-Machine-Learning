{
 "cells": [
  {
   "cell_type": "code",
   "execution_count": 1,
   "id": "1cc178cc",
   "metadata": {},
   "outputs": [],
   "source": [
    "import pandas as pd\n",
    "from sklearn.preprocessing import LabelEncoder\n",
    "from sklearn.neighbors import KNeighborsClassifier"
   ]
  },
  {
   "cell_type": "code",
   "execution_count": 2,
   "id": "775c9850",
   "metadata": {},
   "outputs": [
    {
     "name": "stdout",
     "output_type": "stream",
     "text": [
      "            movie  rating  duration   genre\n",
      "0             MIB     8.0       160  action\n",
      "1         Gadar 2     6.2       170  action\n",
      "2  Rocky and Rani     7.2       168  comedy\n",
      "3           OMG 2     8.2       155  comedy\n"
     ]
    }
   ],
   "source": [
    "df = pd.DataFrame({\n",
    "    'movie': ['MIB','Gadar 2','Rocky and Rani','OMG 2'],\n",
    "    'rating': [8.0,6.2,7.2,8.2],\n",
    "    'duration': [160,170,168,155],\n",
    "    'genre': ['action','action','comedy','comedy']\n",
    "})\n",
    "print(df)"
   ]
  },
  {
   "cell_type": "code",
   "execution_count": 3,
   "id": "bd0eaf1f",
   "metadata": {},
   "outputs": [
    {
     "name": "stdout",
     "output_type": "stream",
     "text": [
      "            movie  rating  duration   genre  genre_enc\n",
      "0             MIB     8.0       160  action          0\n",
      "1         Gadar 2     6.2       170  action          0\n",
      "2  Rocky and Rani     7.2       168  comedy          1\n",
      "3           OMG 2     8.2       155  comedy          1\n"
     ]
    }
   ],
   "source": [
    "le = LabelEncoder()\n",
    "df['genre_enc'] = le.fit_transform(df['genre'])     # 0: action & 1: comedy\n",
    "print(df)"
   ]
  },
  {
   "cell_type": "code",
   "execution_count": 4,
   "id": "d0752cd4",
   "metadata": {},
   "outputs": [
    {
     "name": "stdout",
     "output_type": "stream",
     "text": [
      "The Barbie movie which has 7.4 rating and 114 duration is a 'Comedy' Genre movie\n"
     ]
    }
   ],
   "source": [
    "knn = KNeighborsClassifier(n_neighbors= 3)\n",
    "X = df[['rating','duration']].values\n",
    "y = df['genre_enc']\n",
    "knn.fit(X, y)\n",
    "\n",
    "movie = str(input(\"Enter the name of movie: \"))\n",
    "rating = float(input(\"Enter the rating of movie (0.0 to 10.0): \"))\n",
    "duration = int(input(\"Enter the duration of movie (in minutes): \"))\n",
    "\n",
    "prediction = knn.predict([[rating,duration]])[0]\n",
    "\n",
    "if prediction == 0:\n",
    "    print(f\"The {movie} movie which has {rating} rating and {duration} duration is a 'Action' Genre movie\")\n",
    "else:\n",
    "    print(f\"The {movie} movie which has {rating} rating and {duration} duration is a 'Comedy' Genre movie\")\n"
   ]
  }
 ],
 "metadata": {
  "kernelspec": {
   "display_name": ".venv",
   "language": "python",
   "name": "python3"
  },
  "language_info": {
   "codemirror_mode": {
    "name": "ipython",
    "version": 3
   },
   "file_extension": ".py",
   "mimetype": "text/x-python",
   "name": "python",
   "nbconvert_exporter": "python",
   "pygments_lexer": "ipython3",
   "version": "3.13.7"
  }
 },
 "nbformat": 4,
 "nbformat_minor": 5
}
