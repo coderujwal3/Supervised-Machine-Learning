{
 "cells": [
  {
   "cell_type": "code",
   "execution_count": 5,
   "id": "133e05e2",
   "metadata": {},
   "outputs": [],
   "source": [
    "import pandas as pd\n",
    "from sklearn.preprocessing import LabelEncoder\n",
    "from sklearn.tree import DecisionTreeClassifier"
   ]
  },
  {
   "cell_type": "code",
   "execution_count": 6,
   "id": "786f463d",
   "metadata": {},
   "outputs": [
    {
     "name": "stdout",
     "output_type": "stream",
     "text": [
      "  weather  temp humidity    wind play_football\n",
      "0   sunny   hot     high    weak            no\n",
      "1   sunny   hot     high  strong            no\n",
      "2  cloudy   hot     high    weak           yes\n",
      "3    rain  mild     high    weak           yes\n",
      "4    rain  cold   normal    weak           yes\n"
     ]
    }
   ],
   "source": [
    "df = pd.DataFrame({\n",
    "    'weather': ['sunny','sunny','cloudy','rain','rain'],\n",
    "    'temp': ['hot','hot','hot','mild','cold'],\n",
    "    'humidity': ['high','high','high','high','normal'],\n",
    "    'wind': ['weak','strong','weak','weak','weak'],\n",
    "    'play_football': ['no','no','yes','yes','yes'],\n",
    "})\n",
    "print(df)"
   ]
  },
  {
   "cell_type": "code",
   "execution_count": 7,
   "id": "2f4fd068",
   "metadata": {},
   "outputs": [],
   "source": [
    "#  Using LabelEncoder in weather and temp instead of OneHotEncoder because it doest not order the node by their asssigned number (0,1,2), its splited by the equality checks\n",
    "le_weather = LabelEncoder()\n",
    "le_temp = LabelEncoder()\n",
    "le_humidity = LabelEncoder()\n",
    "le_wind = LabelEncoder()\n",
    "le_play = LabelEncoder()\n",
    "\n",
    "df['weather_enc'] = le_weather.fit_transform(df['weather'])\n",
    "df['temp_enc'] = le_temp.fit_transform(df['temp'])\n",
    "df['humidity_enc'] = le_humidity.fit_transform(df['humidity'])\n",
    "df['wind_enc'] = le_wind.fit_transform(df['wind'])\n",
    "df['play_football_enc'] = le_play.fit_transform(df['play_football'])"
   ]
  },
  {
   "cell_type": "code",
   "execution_count": null,
   "id": "11a52dbe",
   "metadata": {},
   "outputs": [
    {
     "name": "stdout",
     "output_type": "stream",
     "text": [
      "Prediction: Should play football? → YES\n"
     ]
    }
   ],
   "source": [
    "dt = DecisionTreeClassifier(criterion=\"entropy\", random_state=0)\n",
    "X = df[['weather_enc', 'temp_enc', 'humidity_enc', 'wind_enc']].values\n",
    "y = df['play_football_enc']\n",
    "\n",
    "dt.fit(X, y)\n",
    "\n",
    "weather = input(\"Enter the weather you are experiencing (sunny, cloudy, rain): \")\n",
    "temp = input(\"Enter the temperature you are experiencing (hot, mild, cold): \")\n",
    "humidity = input(\"Enter the humidity you are experiencing (high, normal): \")\n",
    "wind = input(\"Enter the wind you are experiencing (weak, strong): \")\n",
    "\n",
    "weather_enc = le_weather.transform([weather])[0]\n",
    "temp_enc = le_temp.transform([temp])[0]\n",
    "humidity_enc = le_humidity.transform([humidity])[0]\n",
    "wind_enc = le_wind.transform([wind])[0]\n",
    "\n",
    "ans_enc = dt.predict([[weather_enc, temp_enc, humidity_enc, wind_enc]])[0]\n",
    "ans = le_play.inverse_transform([ans_enc])[0]\n",
    "print(\"Prediction: Should play football ? →\", ans.upper())"
   ]
  }
 ],
 "metadata": {
  "kernelspec": {
   "display_name": ".venv",
   "language": "python",
   "name": "python3"
  },
  "language_info": {
   "codemirror_mode": {
    "name": "ipython",
    "version": 3
   },
   "file_extension": ".py",
   "mimetype": "text/x-python",
   "name": "python",
   "nbconvert_exporter": "python",
   "pygments_lexer": "ipython3",
   "version": "3.13.7"
  }
 },
 "nbformat": 4,
 "nbformat_minor": 5
}
