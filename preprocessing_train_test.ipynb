{
 "cells": [
  {
   "cell_type": "code",
   "execution_count": 17,
   "id": "f8eea8c0",
   "metadata": {},
   "outputs": [],
   "source": [
    "import pandas as pd\n",
    "from sklearn.model_selection import train_test_split"
   ]
  },
  {
   "cell_type": "code",
   "execution_count": 18,
   "id": "1b7a4899",
   "metadata": {},
   "outputs": [
    {
     "name": "stdout",
     "output_type": "stream",
     "text": [
      "   Age  Salary\n",
      "0   20   20000\n",
      "1   30   40000\n",
      "2   40   60000\n",
      "3   50   80000\n",
      "4   60  100000\n",
      "5   70  120000\n"
     ]
    }
   ],
   "source": [
    "df = pd.DataFrame({\n",
    "    'Age':[20,30,40,50,60,70],\n",
    "    'Salary':[20000,40000,60000,80000,100000,120000]\n",
    "})\n",
    "print(df)"
   ]
  },
  {
   "cell_type": "code",
   "execution_count": 19,
   "id": "bd7e262c",
   "metadata": {},
   "outputs": [
    {
     "name": "stdout",
     "output_type": "stream",
     "text": [
      "\n",
      "Training Data (X)\n",
      "   Age\n",
      "3   50\n",
      "2   40\n",
      "5   70\n",
      "0   20\n",
      "\n",
      "Testing Data (X)\n",
      "   Age\n",
      "4   60\n",
      "1   30\n",
      "\n",
      "Training Data (y)\n",
      "   Salary\n",
      "3   80000\n",
      "2   60000\n",
      "5  120000\n",
      "0   20000\n",
      "\n",
      "Testing Data (y)\n",
      "   Salary\n",
      "4  100000\n",
      "1   40000\n"
     ]
    }
   ],
   "source": [
    "X = df[['Age']]\n",
    "y = df[['Salary']]\n",
    "\n",
    "X_train, X_test, y_train, y_test = train_test_split(X, y, test_size=0.2, random_state=2)\n",
    "# y_train & y_test\n",
    "print(\"\\nTraining Data (X)\")\n",
    "print(X_train)\n",
    "print(\"\\nTesting Data (X)\")\n",
    "print(X_test)\n",
    "\n",
    "# y_train & y_test\n",
    "print(\"\\nTraining Data (y)\")\n",
    "print(y_train)\n",
    "print(\"\\nTesting Data (y)\")\n",
    "print(y_test)"
   ]
  }
 ],
 "metadata": {
  "kernelspec": {
   "display_name": ".venv",
   "language": "python",
   "name": "python3"
  },
  "language_info": {
   "codemirror_mode": {
    "name": "ipython",
    "version": 3
   },
   "file_extension": ".py",
   "mimetype": "text/x-python",
   "name": "python",
   "nbconvert_exporter": "python",
   "pygments_lexer": "ipython3",
   "version": "3.13.7"
  }
 },
 "nbformat": 4,
 "nbformat_minor": 5
}
