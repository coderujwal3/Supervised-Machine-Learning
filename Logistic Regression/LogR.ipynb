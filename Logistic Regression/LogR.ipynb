{
 "cells": [
  {
   "cell_type": "code",
   "execution_count": 22,
   "id": "b3c738fa",
   "metadata": {},
   "outputs": [],
   "source": [
    "# import pandas as pd\n",
    "from sklearn.linear_model import LogisticRegression\n",
    "\n",
    "# ------------------------- Example of Driving License ------------------------- \n",
    "# df = pd.DataFrame({\n",
    "#     'Age':[30,50,10,42,15,17],\n",
    "#     'License':[1,1,0,1,0,0] # 1->yes & 0->no\n",
    "# })\n",
    "\n",
    "# print(df)"
   ]
  },
  {
   "cell_type": "code",
   "execution_count": 23,
   "id": "6738329c",
   "metadata": {},
   "outputs": [],
   "source": [
    "# X = df[['Age']]\n",
    "# y = df['License']\n",
    "\n",
    "# lr = LogisticRegression()\n",
    "# lr.fit(X, y)\n",
    "\n",
    "# inp = int(input(\"Enter your age: \"))\n",
    "# out = lr.predict([[inp]])[0]\n",
    "\n",
    "# if out == 1:\n",
    "#     print('Yes')\n",
    "# else:\n",
    "#     print('No')"
   ]
  },
  {
   "cell_type": "code",
   "execution_count": null,
   "id": "9fda3d06",
   "metadata": {},
   "outputs": [
    {
     "name": "stdout",
     "output_type": "stream",
     "text": [
      "If your study 10.0 hours you might get Pass\n"
     ]
    }
   ],
   "source": [
    "# ------------------------- Example of Hours of Study and Result (Pass/Fail) -------------------------\n",
    "X = [[1],[2],[3],[4],[5]]\n",
    "y = [0,0,1,1,1]     # 0: fail & 1: pass\n",
    "\n",
    "lr = LogisticRegression()\n",
    "lr.fit(X, y)\n",
    "\n",
    "inp = float(input(\"Enter your age: \"))\n",
    "out = lr.predict([[inp]])[0]\n",
    "\n",
    "if out == 1:\n",
    "    print(f'If your study {inp} hours you might get Pass')\n",
    "else:\n",
    "    print(f'If your study {inp} hours you might get Fail')"
   ]
  }
 ],
 "metadata": {
  "kernelspec": {
   "display_name": ".venv",
   "language": "python",
   "name": "python3"
  },
  "language_info": {
   "codemirror_mode": {
    "name": "ipython",
    "version": 3
   },
   "file_extension": ".py",
   "mimetype": "text/x-python",
   "name": "python",
   "nbconvert_exporter": "python",
   "pygments_lexer": "ipython3",
   "version": "3.13.7"
  }
 },
 "nbformat": 4,
 "nbformat_minor": 5
}
