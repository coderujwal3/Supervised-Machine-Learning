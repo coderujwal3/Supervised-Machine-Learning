{
 "cells": [
  {
   "cell_type": "code",
   "execution_count": 2,
   "id": "bd4e106a",
   "metadata": {},
   "outputs": [
    {
     "name": "stdout",
     "output_type": "stream",
     "text": [
      "       Name   Age   Salary\n",
      "0     Ujwal  21.0  70000.0\n",
      "1     Singh  21.0      NaN\n",
      "2     Ayush   NaN      NaN\n",
      "3  Agrahari  29.0  50000.0\n"
     ]
    }
   ],
   "source": [
    "from sklearn.preprocessing import LabelEncoder\n",
    "import pandas as pd\n",
    "\n",
    "data = {\n",
    "    'Name':['Ujwal','Singh','Ayush','Agrahari'],\n",
    "    'Age':[21,21,None,29],\n",
    "    'Salary':[70000,None,None,50000]\n",
    "}\n",
    "df = pd.DataFrame(data)\n",
    "print(df)"
   ]
  },
  {
   "cell_type": "code",
   "execution_count": 3,
   "id": "e0e25c98",
   "metadata": {},
   "outputs": [
    {
     "data": {
      "text/html": [
       "<div>\n",
       "<style scoped>\n",
       "    .dataframe tbody tr th:only-of-type {\n",
       "        vertical-align: middle;\n",
       "    }\n",
       "\n",
       "    .dataframe tbody tr th {\n",
       "        vertical-align: top;\n",
       "    }\n",
       "\n",
       "    .dataframe thead th {\n",
       "        text-align: right;\n",
       "    }\n",
       "</style>\n",
       "<table border=\"1\" class=\"dataframe\">\n",
       "  <thead>\n",
       "    <tr style=\"text-align: right;\">\n",
       "      <th></th>\n",
       "      <th>Name</th>\n",
       "      <th>Age</th>\n",
       "      <th>Salary</th>\n",
       "    </tr>\n",
       "  </thead>\n",
       "  <tbody>\n",
       "    <tr>\n",
       "      <th>0</th>\n",
       "      <td>Ujwal</td>\n",
       "      <td>21.0</td>\n",
       "      <td>70000.0</td>\n",
       "    </tr>\n",
       "    <tr>\n",
       "      <th>3</th>\n",
       "      <td>Agrahari</td>\n",
       "      <td>29.0</td>\n",
       "      <td>50000.0</td>\n",
       "    </tr>\n",
       "  </tbody>\n",
       "</table>\n",
       "</div>"
      ],
      "text/plain": [
       "       Name   Age   Salary\n",
       "0     Ujwal  21.0  70000.0\n",
       "3  Agrahari  29.0  50000.0"
      ]
     },
     "execution_count": 3,
     "metadata": {},
     "output_type": "execute_result"
    }
   ],
   "source": [
    "df.dropna()"
   ]
  },
  {
   "cell_type": "code",
   "execution_count": 4,
   "id": "8aa154fb",
   "metadata": {},
   "outputs": [
    {
     "name": "stdout",
     "output_type": "stream",
     "text": [
      "Name      0\n",
      "Age       1\n",
      "Salary    2\n",
      "dtype: int64\n"
     ]
    }
   ],
   "source": [
    "n = df.isnull().sum() # for number of missing places\n",
    "print(n)"
   ]
  },
  {
   "cell_type": "code",
   "execution_count": 5,
   "id": "d9665c46",
   "metadata": {},
   "outputs": [
    {
     "name": "stdout",
     "output_type": "stream",
     "text": [
      "Name       0.0\n",
      "Age       25.0\n",
      "Salary    50.0\n",
      "dtype: float64\n"
     ]
    }
   ],
   "source": [
    "print(df.isnull().mean() * 100) # for missing percentage"
   ]
  },
  {
   "cell_type": "code",
   "execution_count": 6,
   "id": "844dc07b",
   "metadata": {},
   "outputs": [
    {
     "name": "stdout",
     "output_type": "stream",
     "text": [
      "       Name        Age   Salary\n",
      "0     Ujwal  21.000000  70000.0\n",
      "1     Singh  21.000000  60000.0\n",
      "2     Ayush  23.666667  60000.0\n",
      "3  Agrahari  29.000000  50000.0\n"
     ]
    }
   ],
   "source": [
    "df.fillna({'Age': df['Age'].mean()}, inplace = True)\n",
    "df.fillna({'Salary': df['Salary'].mean()}, inplace = True)\n",
    "print(df)"
   ]
  },
  {
   "cell_type": "code",
   "execution_count": null,
   "id": "5a6208cc",
   "metadata": {},
   "outputs": [
    {
     "name": "stdout",
     "output_type": "stream",
     "text": [
      "CSV file created successfully\n"
     ]
    }
   ],
   "source": [
    "data = {\n",
    "    'Name':['Aman','Priya','Rahul','Anjali','Ravi','Meera','Arjun','Neha','Imran','Sneha','Raj'],\n",
    "    'Gender': ['male','female','male','female','male','female','male','female','male','female','male'],\n",
    "    'Passed':['yes','yes','no','yes','yes','no','yes','yes','no','yes','yes'],\n",
    "    'City': ['Mumbai','Banglore','Delhi','Mumbai','Banglore','Delhi','Mumbai','Banglore','Delhi','Mumbai','Banglore']\n",
    "}\n",
    "\n",
    "df = pd.DataFrame(data)\n",
    "df.to_csv('Trial.csv', index=False)\n",
    "print(\"CSV file created successfully\")"
   ]
  },
  {
   "cell_type": "code",
   "execution_count": null,
   "id": "03dd4268",
   "metadata": {},
   "outputs": [
    {
     "name": "stdout",
     "output_type": "stream",
     "text": [
      "**************************************************\n",
      "\n",
      "One-Hot Encoded (City)\n",
      "     Name  Gender Passed  ...  City_Banglore  City_Delhi  City_Mumbai\n",
      "0    Aman    male    yes  ...              0           0            1\n",
      "1   Priya  female    yes  ...              1           0            0\n",
      "2   Rahul    male     no  ...              0           1            0\n",
      "3  Anjali  female    yes  ...              0           0            1\n",
      "4    Ravi    male    yes  ...              1           0            0\n",
      "\n",
      "[5 rows x 8 columns]\n",
      "Without Encoding Data: \n",
      "     Name  Gender Passed      City\n",
      "0    Aman    male    yes    Mumbai\n",
      "1   Priya  female    yes  Banglore\n",
      "2   Rahul    male     no     Delhi\n",
      "3  Anjali  female    yes    Mumbai\n",
      "4    Ravi    male    yes  Banglore\n",
      "\n"
     ]
    }
   ],
   "source": [
    "df = pd.read_csv('Trial.csv')\n",
    "\n",
    "df_copy = df.copy()\n",
    "le = LabelEncoder()\n",
    "\n",
    "df_copy['Gender_encoded'] = le.fit_transform(df_copy['Gender'])\n",
    "df_copy['Passed_encoded'] = le.fit_transform(df_copy['Passed'])\n",
    "# print('*'*50)\n",
    "# print('\\nLabel Encoded Data')\n",
    "# print(df_copy[['Name','Gender','Gender_encoded','Passed', 'Passed_encoded']].head())\n",
    "\n",
    "df_encoded = pd.get_dummies(df_copy, columns=['City'], dtype=int) # dtype=int -> by default it returns Boolean values (True/False), to change its default value to binary number (0/1)\n",
    "print('*'*50)\n",
    "print('\\nOne-Hot Encoded (City)')\n",
    "print(df_encoded.head())\n",
    "\n",
    "print(f'Without Encoding Data: \\n{df.head()}\\n') # cross verify them - one-hot encoded values"
   ]
  }
 ],
 "metadata": {
  "kernelspec": {
   "display_name": ".venv",
   "language": "python",
   "name": "python3"
  },
  "language_info": {
   "codemirror_mode": {
    "name": "ipython",
    "version": 3
   },
   "file_extension": ".py",
   "mimetype": "text/x-python",
   "name": "python",
   "nbconvert_exporter": "python",
   "pygments_lexer": "ipython3",
   "version": "3.13.7"
  }
 },
 "nbformat": 4,
 "nbformat_minor": 5
}
