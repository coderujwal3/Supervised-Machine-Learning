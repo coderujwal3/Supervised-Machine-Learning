{
 "cells": [
  {
   "cell_type": "code",
   "execution_count": null,
   "id": "6974964f",
   "metadata": {},
   "outputs": [
    {
     "name": "stdout",
     "output_type": "stream",
     "text": [
      "15.0 hours: 214.00000000000003 marks\n"
     ]
    }
   ],
   "source": [
    "from sklearn.linear_model import LinearRegression\n",
    "\n",
    "model = LinearRegression()\n",
    "X = [[1],[2],[3],[4],[5]]\n",
    "y = [40,50,65,75,90]\n",
    "\n",
    "model.fit(X,y)\n",
    "\n",
    "hours = float(input(\"Enter the numbers of hours you studied: \"))\n",
    "marks = model.predict([[hours]])[0]\n",
    "\n",
    "print(f\"{hours} hours: {marks} marks\")"
   ]
  }
 ],
 "metadata": {
  "kernelspec": {
   "display_name": ".venv",
   "language": "python",
   "name": "python3"
  },
  "language_info": {
   "codemirror_mode": {
    "name": "ipython",
    "version": 3
   },
   "file_extension": ".py",
   "mimetype": "text/x-python",
   "name": "python",
   "nbconvert_exporter": "python",
   "pygments_lexer": "ipython3",
   "version": "3.13.7"
  }
 },
 "nbformat": 4,
 "nbformat_minor": 5
}
