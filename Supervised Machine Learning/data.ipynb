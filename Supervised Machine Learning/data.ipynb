{
 "cells": [
  {
   "cell_type": "code",
   "execution_count": 1,
   "id": "bd4e106a",
   "metadata": {},
   "outputs": [
    {
     "name": "stdout",
     "output_type": "stream",
     "text": [
      "       Name   Age   Salary\n",
      "0     Ujwal  21.0  70000.0\n",
      "1     Singh  21.0      NaN\n",
      "2     Ayush   NaN      NaN\n",
      "3  Agrahari  29.0  50000.0\n"
     ]
    }
   ],
   "source": [
    "from sklearn.preprocessing import LabelEncoder\n",
    "import pandas as pd\n",
    "\n",
    "data = {\n",
    "    'Name':['Ujwal','Singh','Ayush','Agrahari'],\n",
    "    'Age':[21,21,None,29],\n",
    "    'Salary':[70000,None,None,50000]\n",
    "}\n",
    "df = pd.DataFrame(data)\n",
    "print(df)"
   ]
  },
  {
   "cell_type": "code",
   "execution_count": null,
   "id": "e0e25c98",
   "metadata": {},
   "outputs": [
    {
     "data": {
      "text/html": [
       "<div>\n",
       "<style scoped>\n",
       "    .dataframe tbody tr th:only-of-type {\n",
       "        vertical-align: middle;\n",
       "    }\n",
       "\n",
       "    .dataframe tbody tr th {\n",
       "        vertical-align: top;\n",
       "    }\n",
       "\n",
       "    .dataframe thead th {\n",
       "        text-align: right;\n",
       "    }\n",
       "</style>\n",
       "<table border=\"1\" class=\"dataframe\">\n",
       "  <thead>\n",
       "    <tr style=\"text-align: right;\">\n",
       "      <th></th>\n",
       "      <th>Name</th>\n",
       "      <th>Gender</th>\n",
       "      <th>Passed</th>\n",
       "      <th>City</th>\n",
       "    </tr>\n",
       "  </thead>\n",
       "  <tbody>\n",
       "    <tr>\n",
       "      <th>0</th>\n",
       "      <td>Aman</td>\n",
       "      <td>male</td>\n",
       "      <td>yes</td>\n",
       "      <td>Mumbai</td>\n",
       "    </tr>\n",
       "    <tr>\n",
       "      <th>1</th>\n",
       "      <td>Priya</td>\n",
       "      <td>female</td>\n",
       "      <td>yes</td>\n",
       "      <td>Banglore</td>\n",
       "    </tr>\n",
       "    <tr>\n",
       "      <th>2</th>\n",
       "      <td>Rahul</td>\n",
       "      <td>male</td>\n",
       "      <td>no</td>\n",
       "      <td>Delhi</td>\n",
       "    </tr>\n",
       "    <tr>\n",
       "      <th>3</th>\n",
       "      <td>Anjali</td>\n",
       "      <td>female</td>\n",
       "      <td>yes</td>\n",
       "      <td>Mumbai</td>\n",
       "    </tr>\n",
       "    <tr>\n",
       "      <th>4</th>\n",
       "      <td>Ravi</td>\n",
       "      <td>male</td>\n",
       "      <td>yes</td>\n",
       "      <td>Banglore</td>\n",
       "    </tr>\n",
       "    <tr>\n",
       "      <th>5</th>\n",
       "      <td>Meera</td>\n",
       "      <td>female</td>\n",
       "      <td>no</td>\n",
       "      <td>Delhi</td>\n",
       "    </tr>\n",
       "    <tr>\n",
       "      <th>6</th>\n",
       "      <td>Arjun</td>\n",
       "      <td>male</td>\n",
       "      <td>yes</td>\n",
       "      <td>Mumbai</td>\n",
       "    </tr>\n",
       "    <tr>\n",
       "      <th>7</th>\n",
       "      <td>Neha</td>\n",
       "      <td>female</td>\n",
       "      <td>yes</td>\n",
       "      <td>Banglore</td>\n",
       "    </tr>\n",
       "    <tr>\n",
       "      <th>8</th>\n",
       "      <td>Imran</td>\n",
       "      <td>male</td>\n",
       "      <td>no</td>\n",
       "      <td>Delhi</td>\n",
       "    </tr>\n",
       "    <tr>\n",
       "      <th>9</th>\n",
       "      <td>Sneha</td>\n",
       "      <td>female</td>\n",
       "      <td>yes</td>\n",
       "      <td>Mumbai</td>\n",
       "    </tr>\n",
       "    <tr>\n",
       "      <th>10</th>\n",
       "      <td>Raj</td>\n",
       "      <td>male</td>\n",
       "      <td>yes</td>\n",
       "      <td>Banglore</td>\n",
       "    </tr>\n",
       "  </tbody>\n",
       "</table>\n",
       "</div>"
      ],
      "text/plain": [
       "      Name  Gender Passed      City\n",
       "0     Aman    male    yes    Mumbai\n",
       "1    Priya  female    yes  Banglore\n",
       "2    Rahul    male     no     Delhi\n",
       "3   Anjali  female    yes    Mumbai\n",
       "4     Ravi    male    yes  Banglore\n",
       "5    Meera  female     no     Delhi\n",
       "6    Arjun    male    yes    Mumbai\n",
       "7     Neha  female    yes  Banglore\n",
       "8    Imran    male     no     Delhi\n",
       "9    Sneha  female    yes    Mumbai\n",
       "10     Raj    male    yes  Banglore"
      ]
     },
     "execution_count": 8,
     "metadata": {},
     "output_type": "execute_result"
    }
   ],
   "source": [
    "df.dropna()"
   ]
  },
  {
   "cell_type": "code",
   "execution_count": 3,
   "id": "8aa154fb",
   "metadata": {},
   "outputs": [
    {
     "name": "stdout",
     "output_type": "stream",
     "text": [
      "Name      0\n",
      "Age       1\n",
      "Salary    2\n",
      "dtype: int64\n"
     ]
    }
   ],
   "source": [
    "n = df.isnull().sum() # for number of missing places\n",
    "print(n)"
   ]
  },
  {
   "cell_type": "code",
   "execution_count": 4,
   "id": "d9665c46",
   "metadata": {},
   "outputs": [
    {
     "name": "stdout",
     "output_type": "stream",
     "text": [
      "Name       0.0\n",
      "Age       25.0\n",
      "Salary    50.0\n",
      "dtype: float64\n"
     ]
    }
   ],
   "source": [
    "print(df.isnull().mean() * 100) # for missing percentage"
   ]
  },
  {
   "cell_type": "code",
   "execution_count": 5,
   "id": "844dc07b",
   "metadata": {},
   "outputs": [
    {
     "name": "stdout",
     "output_type": "stream",
     "text": [
      "       Name        Age   Salary\n",
      "0     Ujwal  21.000000  70000.0\n",
      "1     Singh  21.000000  60000.0\n",
      "2     Ayush  23.666667  60000.0\n",
      "3  Agrahari  29.000000  50000.0\n"
     ]
    }
   ],
   "source": [
    "df.fillna({'Age': df['Age'].mean()}, inplace = True)\n",
    "df.fillna({'Salary': df['Salary'].mean()}, inplace = True)\n",
    "print(df)"
   ]
  },
  {
   "cell_type": "code",
   "execution_count": null,
   "id": "5a6208cc",
   "metadata": {},
   "outputs": [
    {
     "name": "stdout",
     "output_type": "stream",
     "text": [
      "CSV file created successfully\n"
     ]
    }
   ],
   "source": [
    "# another example\n",
    "data = {\n",
    "    'Name':['Aman','Priya','Rahul','Anjali','Ravi','Meera','Arjun','Neha','Imran','Sneha','Raj'],\n",
    "    'Gender': ['male','female','male','female','male','female','male','female','male','female','male'],\n",
    "    'Passed':['yes','yes','no','yes','yes','no','yes','yes','no','yes','yes'],\n",
    "    'City': ['Mumbai','Banglore','Delhi','Mumbai','Banglore','Delhi','Mumbai','Banglore','Delhi','Mumbai','Banglore']\n",
    "}\n",
    "\n",
    "df = pd.DataFrame(data)\n",
    "df.to_csv('Trial.csv', index=False)\n",
    "print(\"CSV file created successfully\")"
   ]
  },
  {
   "cell_type": "code",
   "execution_count": 10,
   "id": "03dd4268",
   "metadata": {},
   "outputs": [
    {
     "name": "stdout",
     "output_type": "stream",
     "text": [
      "**************************************************\n",
      "\n",
      "One-Hot Encoded (City)\n",
      "     Name  Gender Passed  Gender_encoded  Passed_encoded  City_Banglore  \\\n",
      "0    Aman    male    yes               1               1              0   \n",
      "1   Priya  female    yes               0               1              1   \n",
      "2   Rahul    male     no               1               0              0   \n",
      "3  Anjali  female    yes               0               1              0   \n",
      "4    Ravi    male    yes               1               1              1   \n",
      "\n",
      "   City_Delhi  City_Mumbai  \n",
      "0           0            1  \n",
      "1           0            0  \n",
      "2           1            0  \n",
      "3           0            1  \n",
      "4           0            0  \n",
      "Without Encoding Data: \n",
      "     Name  Gender Passed      City\n",
      "0    Aman    male    yes    Mumbai\n",
      "1   Priya  female    yes  Banglore\n",
      "2   Rahul    male     no     Delhi\n",
      "3  Anjali  female    yes    Mumbai\n",
      "4    Ravi    male    yes  Banglore\n",
      "\n"
     ]
    }
   ],
   "source": [
    "df = pd.read_csv('Trial.csv')\n",
    "\n",
    "df_copy = df.copy()\n",
    "le = LabelEncoder()\n",
    "\n",
    "df_copy['Gender_encoded'] = le.fit_transform(df_copy['Gender'])\n",
    "df_copy['Passed_encoded'] = le.fit_transform(df_copy['Passed'])\n",
    "# print('*'*50)\n",
    "# print('\\nLabel Encoded Data')\n",
    "# print(df_copy[['Name','Gender','Gender_encoded','Passed', 'Passed_encoded']].head())\n",
    "\n",
    "df_encoded = pd.get_dummies(df_copy, columns=['City'], dtype=int) # dtype=int -> by default it returns Boolean values (True/False), to change its default value to binary number (0/1)\n",
    "print('*'*50)\n",
    "print('\\nOne-Hot Encoded (City)')\n",
    "print(df_encoded.head())\n",
    "\n",
    "print(f'Without Encoding Data: \\n{df.head()}\\n') # cross verify them - one-hot encoded values"
   ]
  }
 ],
 "metadata": {
  "kernelspec": {
   "display_name": ".venv",
   "language": "python",
   "name": "python3"
  },
  "language_info": {
   "codemirror_mode": {
    "name": "ipython",
    "version": 3
   },
   "file_extension": ".py",
   "mimetype": "text/x-python",
   "name": "python",
   "nbconvert_exporter": "python",
   "pygments_lexer": "ipython3",
   "version": "3.13.7"
  }
 },
 "nbformat": 4,
 "nbformat_minor": 5
}
