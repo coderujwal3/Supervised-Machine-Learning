{
 "cells": [
  {
   "cell_type": "code",
   "execution_count": 1,
   "id": "8243662e",
   "metadata": {},
   "outputs": [],
   "source": [
    "import pandas as pd\n",
    "from sklearn.preprocessing import LabelEncoder, StandardScaler, MinMaxScaler\n",
    "from sklearn.model_selection import train_test_split"
   ]
  },
  {
   "cell_type": "code",
   "execution_count": 2,
   "id": "29f9e6fd",
   "metadata": {},
   "outputs": [
    {
     "name": "stdout",
     "output_type": "stream",
     "text": [
      "   Age  Salary\n",
      "0   20   20000\n",
      "1   30   40000\n",
      "2   40   60000\n",
      "3   50   80000\n",
      "4   60  100000\n"
     ]
    }
   ],
   "source": [
    "# Data Frame\n",
    "df = pd.DataFrame({\n",
    "    'Age':[20,30,40,50,60],\n",
    "    'Salary':[20000,40000,60000,80000,100000]\n",
    "})\n",
    "print(df)"
   ]
  },
  {
   "cell_type": "code",
   "execution_count": null,
   "id": "ee35ce8a",
   "metadata": {},
   "outputs": [],
   "source": [
    "# Label Encoding Section    -    The reason why you should use One-Hot Encoder in such data\n",
    "# le = LabelEncoder()\n",
    "# df['Age_Encoded'] = le.fit_transform(df['Age'])\n",
    "# df['Salary_Encoded'] = le.fit_transform(df['Salary'])\n",
    "# print(\"Label Encoded Data: \")\n",
    "# print(df)"
   ]
  },
  {
   "cell_type": "code",
   "execution_count": 4,
   "id": "8ed0c6e0",
   "metadata": {},
   "outputs": [
    {
     "name": "stdout",
     "output_type": "stream",
     "text": [
      "Standard Scaled Data: \n",
      "        Age    Salary\n",
      "0 -1.414214 -1.414214\n",
      "1 -0.707107 -0.707107\n",
      "2  0.000000  0.000000\n",
      "3  0.707107  0.707107\n",
      "4  1.414214  1.414214\n",
      "MinMax Scaled Data: \n",
      "    Age  Salary\n",
      "0  0.00    0.00\n",
      "1  0.25    0.25\n",
      "2  0.50    0.50\n",
      "3  0.75    0.75\n",
      "4  1.00    1.00\n"
     ]
    }
   ],
   "source": [
    "# Standard Scaler (Feature Scaling)\n",
    "Standard_scaler = StandardScaler()\n",
    "std_scaled = Standard_scaler.fit_transform(df)\n",
    "print(\"Standard Scaled Data: \")\n",
    "print(pd.DataFrame(std_scaled, columns=['Age','Salary']))\n",
    "\n",
    "# MinMaxScaler (Feature Scaling)\n",
    "MinMax_scaler = MinMaxScaler()\n",
    "mm_scaled = MinMax_scaler.fit_transform(df)\n",
    "print(\"MinMax Scaled Data: \")\n",
    "print((pd.DataFrame(mm_scaled, columns=['Age','Salary'])))"
   ]
  }
 ],
 "metadata": {
  "kernelspec": {
   "display_name": ".venv",
   "language": "python",
   "name": "python3"
  },
  "language_info": {
   "codemirror_mode": {
    "name": "ipython",
    "version": 3
   },
   "file_extension": ".py",
   "mimetype": "text/x-python",
   "name": "python",
   "nbconvert_exporter": "python",
   "pygments_lexer": "ipython3",
   "version": "3.13.7"
  }
 },
 "nbformat": 4,
 "nbformat_minor": 5
}
