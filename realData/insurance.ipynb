{
 "cells": [
  {
   "cell_type": "code",
   "execution_count": 1,
   "id": "238a11e2",
   "metadata": {},
   "outputs": [],
   "source": [
    "import pandas as pd\n",
    "from sklearn.preprocessing import LabelEncoder, OneHotEncoder\n",
    "from sklearn.model_selection import train_test_split\n",
    "from sklearn.linear_model import LinearRegression, LogisticRegression\n",
    "from sklearn.neighbors import KNeighborsClassifier"
   ]
  },
  {
   "cell_type": "code",
   "execution_count": 2,
   "id": "7a8d0669",
   "metadata": {},
   "outputs": [
    {
     "name": "stdout",
     "output_type": "stream",
     "text": [
      "   age     sex     bmi  children smoker     region      charges\n",
      "0   19  female  27.900         0    yes  southwest  16884.92400\n",
      "1   18    male  33.770         1     no  southeast   1725.55230\n",
      "2   28    male  33.000         3     no  southeast   4449.46200\n",
      "3   33    male  22.705         0     no  northwest  21984.47061\n",
      "4   32    male  28.880         0     no  northwest   3866.85520\n",
      "               age          bmi     children       charges\n",
      "count  1338.000000  1338.000000  1338.000000   1338.000000\n",
      "mean     39.207025    30.663397     1.094918  13270.422265\n",
      "std      14.049960     6.098187     1.205493  12110.011237\n",
      "min      18.000000    15.960000     0.000000   1121.873900\n",
      "25%      27.000000    26.296250     0.000000   4740.287150\n",
      "50%      39.000000    30.400000     1.000000   9382.033000\n",
      "75%      51.000000    34.693750     2.000000  16639.912515\n",
      "max      64.000000    53.130000     5.000000  63770.428010\n"
     ]
    }
   ],
   "source": [
    "df = pd.read_csv(\"insurance.csv\")\n",
    "print(df.head())\n",
    "print(df.describe())"
   ]
  },
  {
   "cell_type": "code",
   "execution_count": 3,
   "id": "c88be2fe",
   "metadata": {},
   "outputs": [
    {
     "data": {
      "text/plain": [
       "age         0\n",
       "sex         0\n",
       "bmi         0\n",
       "children    0\n",
       "smoker      0\n",
       "region      0\n",
       "charges     0\n",
       "dtype: int64"
      ]
     },
     "execution_count": 3,
     "metadata": {},
     "output_type": "execute_result"
    }
   ],
   "source": [
    "df.isnull().sum()   # no null values"
   ]
  },
  {
   "cell_type": "code",
   "execution_count": 4,
   "id": "dc863868",
   "metadata": {},
   "outputs": [
    {
     "name": "stdout",
     "output_type": "stream",
     "text": [
      "   age     sex     bmi  children smoker     region      charges  sex_encoded  \\\n",
      "0   19  female  27.900         0    yes  southwest  16884.92400            0   \n",
      "1   18    male  33.770         1     no  southeast   1725.55230            1   \n",
      "2   28    male  33.000         3     no  southeast   4449.46200            1   \n",
      "3   33    male  22.705         0     no  northwest  21984.47061            1   \n",
      "4   32    male  28.880         0     no  northwest   3866.85520            1   \n",
      "\n",
      "   smoker_encoded  \n",
      "0               1  \n",
      "1               0  \n",
      "2               0  \n",
      "3               0  \n",
      "4               0  \n"
     ]
    }
   ],
   "source": [
    "# Implemented LabelEncoder for sex & smoker column\n",
    "le = LabelEncoder()\n",
    "df['sex_encoded'] = le.fit_transform(df['sex'])     # female-0 & male-1\n",
    "df['smoker_encoded'] = le.fit_transform(df['smoker'])       # yes-1 & no-0\n",
    "print(df.head())"
   ]
  },
  {
   "cell_type": "code",
   "execution_count": 5,
   "id": "aede24da",
   "metadata": {},
   "outputs": [
    {
     "name": "stdout",
     "output_type": "stream",
     "text": [
      "   age     sex     bmi  children smoker      charges  sex_encoded  \\\n",
      "0   19  female  27.900         0    yes  16884.92400            0   \n",
      "1   18    male  33.770         1     no   1725.55230            1   \n",
      "2   28    male  33.000         3     no   4449.46200            1   \n",
      "3   33    male  22.705         0     no  21984.47061            1   \n",
      "4   32    male  28.880         0     no   3866.85520            1   \n",
      "\n",
      "   smoker_encoded  region_northwest  region_southeast  region_southwest  \n",
      "0               1               0.0               0.0               1.0  \n",
      "1               0               0.0               1.0               0.0  \n",
      "2               0               0.0               1.0               0.0  \n",
      "3               0               1.0               0.0               0.0  \n",
      "4               0               1.0               0.0               0.0  \n"
     ]
    }
   ],
   "source": [
    "# Implemented OneHotEncoder for region column\n",
    "encoder = OneHotEncoder(drop='first', sparse_output=False, handle_unknown='ignore')\n",
    "\n",
    "encoded = encoder.fit_transform(df[['region']])\n",
    "features = encoder.get_feature_names_out(['region'])\n",
    "one_hot = pd.DataFrame(encoded, columns=features) # resultant comes in features is \"Array\", so it should be converted in DataFrame\n",
    "\n",
    "df_encoded = pd.concat([df, one_hot], axis=1)   # concat both the dataframes (df) & (one_hot) - axis=1 (column)\n",
    "\n",
    "df_encoded.drop('region', axis=1, inplace=True) # delete the original column 'region' from Dataframe. inplace=True (make chnages in original DataFrame)\n",
    "print(df_encoded.head())"
   ]
  },
  {
   "cell_type": "code",
   "execution_count": 6,
   "id": "e7124ced",
   "metadata": {},
   "outputs": [
    {
     "name": "stdout",
     "output_type": "stream",
     "text": [
      "\n",
      "Training Data (X)\n",
      "      age\n",
      "127    52\n",
      "578    52\n",
      "385    19\n",
      "1203   51\n",
      "413    25\n",
      "...   ...\n",
      "360    48\n",
      "709    36\n",
      "439    26\n",
      "174    24\n",
      "1146   60\n",
      "\n",
      "[1070 rows x 1 columns]\n",
      "Testing Data (X)\n",
      "      age\n",
      "726    41\n",
      "260    58\n",
      "902    26\n",
      "566    38\n",
      "776    40\n",
      "...   ...\n",
      "705    33\n",
      "309    41\n",
      "1183   48\n",
      "1281   47\n",
      "800    42\n",
      "\n",
      "[268 rows x 1 columns]\n",
      "\n",
      "Testing Data (y)\n",
      "127      9634.53800\n",
      "578      9724.53000\n",
      "385      1261.85900\n",
      "1203     9964.06000\n",
      "413      5080.09600\n",
      "           ...     \n",
      "360     10043.24900\n",
      "709      5469.00660\n",
      "439      2897.32350\n",
      "174      2855.43755\n",
      "1146    52590.82939\n",
      "Name: charges, Length: 1070, dtype: float64\n",
      "Testing Data (y)\n",
      "726      6664.68595\n",
      "260     11837.16000\n",
      "902      4661.28635\n",
      "566      6373.55735\n",
      "776      6986.69700\n",
      "           ...     \n",
      "705      5375.03800\n",
      "309      7749.15640\n",
      "1183     9447.38240\n",
      "1281    24535.69855\n",
      "800      7046.72220\n",
      "Name: charges, Length: 268, dtype: float64\n"
     ]
    }
   ],
   "source": [
    "# Spliting data for training and testing\n",
    "X = df_encoded[['age']]\n",
    "y = df_encoded['charges']\n",
    "\n",
    "X_train, X_test, y_train, y_test = train_test_split(X, y, test_size=0.2, random_state=4)\n",
    "print(\"\\nTraining Data (X)\")\n",
    "print(X_train)\n",
    "print(\"Testing Data (X)\")\n",
    "print(X_test)\n",
    "\n",
    "print(\"\\nTesting Data (y)\")\n",
    "print(y_train)\n",
    "print(\"Testing Data (y)\")\n",
    "print(y_test)"
   ]
  },
  {
   "cell_type": "code",
   "execution_count": 7,
   "id": "43124ebc",
   "metadata": {},
   "outputs": [
    {
     "name": "stdout",
     "output_type": "stream",
     "text": [
      "According to your age (16), your charges may be 7289.446904733356\n"
     ]
    }
   ],
   "source": [
    "model = LinearRegression()\n",
    "model.fit(X,y)\n",
    "\n",
    "inp = int(input(\"Enter your age: \"))\n",
    "inp_df = pd.DataFrame([[inp]], columns=['age'])\n",
    "pred = model.predict(inp_df)[0]\n",
    "\n",
    "print(f\"According to your age ({inp}), your charges may be {pred}\")"
   ]
  },
  {
   "cell_type": "code",
   "execution_count": 8,
   "id": "5d8012ef",
   "metadata": {},
   "outputs": [
    {
     "name": "stdout",
     "output_type": "stream",
     "text": [
      "According to your age (16), you might not be smoking\n"
     ]
    }
   ],
   "source": [
    "X = df_encoded[['age']]\n",
    "y = df_encoded['smoker_encoded']\n",
    "model2 = LogisticRegression()\n",
    "model2.fit(X,y)\n",
    "\n",
    "pred = model2.predict(inp_df)[0]\n",
    "if pred == 0:\n",
    "    print(f\"According to your age ({inp}), you might not be smoking\")\n",
    "else:\n",
    "    print(f\"According to your age ({inp}), you might be smoking\")"
   ]
  },
  {
   "cell_type": "code",
   "execution_count": 9,
   "id": "3b4a4ddb",
   "metadata": {},
   "outputs": [
    {
     "name": "stdout",
     "output_type": "stream",
     "text": [
      "According to your age (16), you might not be smoking\n"
     ]
    }
   ],
   "source": [
    "knn = KNeighborsClassifier()\n",
    "X = df_encoded[['age']]\n",
    "y = df_encoded['smoker_encoded']\n",
    "knn.fit(X, y)\n",
    "\n",
    "prediction = knn.predict(inp_df)[0]\n",
    "if prediction == 0:\n",
    "    print(f\"According to your age ({inp}), you might not be smoking\")\n",
    "else:\n",
    "    print(f\"According to your age ({inp}), you might be smoking\")"
   ]
  }
 ],
 "metadata": {
  "kernelspec": {
   "display_name": ".venv",
   "language": "python",
   "name": "python3"
  },
  "language_info": {
   "codemirror_mode": {
    "name": "ipython",
    "version": 3
   },
   "file_extension": ".py",
   "mimetype": "text/x-python",
   "name": "python",
   "nbconvert_exporter": "python",
   "pygments_lexer": "ipython3",
   "version": "3.13.7"
  }
 },
 "nbformat": 4,
 "nbformat_minor": 5
}
