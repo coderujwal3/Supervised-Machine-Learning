{
 "cells": [
  {
   "cell_type": "code",
   "execution_count": 27,
   "id": "75181296",
   "metadata": {},
   "outputs": [],
   "source": [
    "import pandas as pd\n",
    "from sklearn.linear_model import LinearRegression\n",
    "from sklearn.metrics import mean_absolute_error, mean_squared_error\n",
    "import numpy as np"
   ]
  },
  {
   "cell_type": "code",
   "execution_count": 28,
   "id": "f0e2313d",
   "metadata": {},
   "outputs": [
    {
     "name": "stdout",
     "output_type": "stream",
     "text": [
      "   Hours  Score\n",
      "0      1     52\n",
      "1      2     57\n",
      "2      3     65\n",
      "3      4     70\n",
      "4      5     75\n",
      "5      6     80\n"
     ]
    }
   ],
   "source": [
    "data = pd.read_csv(\"student.csv\")\n",
    "df = pd.DataFrame(data)\n",
    "print(df)"
   ]
  },
  {
   "cell_type": "code",
   "execution_count": 29,
   "id": "c91e4390",
   "metadata": {},
   "outputs": [
    {
     "name": "stdout",
     "output_type": "stream",
     "text": [
      "Mean absolute error (MAE): 66.66666666666643%\n",
      "Mean squared error (MSE): 62.857142857142826%\n",
      "Root mean squared error (RMSE): 792.8249671720918%\n",
      "predicted score of 7 hour is: 86.4\n"
     ]
    }
   ],
   "source": [
    "X = df[['Hours']].values\n",
    "y = df['Score']\n",
    "\n",
    "model = LinearRegression()\n",
    "model.fit(X,y)\n",
    "\n",
    "predicted_score = model.predict(X)\n",
    "\n",
    "mae = (mean_absolute_error(y, predicted_score))* 100\n",
    "mse = (mean_squared_error(y, predicted_score))* 100\n",
    "rmse = np.sqrt(mse) * 100\n",
    "\n",
    "print(f\"Mean absolute error (MAE): {mae}%\")\n",
    "print(f\"Mean squared error (MSE): {mse}%\")\n",
    "print(f\"Root mean squared error (RMSE): {rmse}%\")\n",
    "\n",
    "inp = 7     # you to take input also\n",
    "new_prediction = model.predict([[inp]])[0]\n",
    "print(f\"predicted score of {inp} hour is: {new_prediction}\")"
   ]
  }
 ],
 "metadata": {
  "kernelspec": {
   "display_name": ".venv",
   "language": "python",
   "name": "python3"
  },
  "language_info": {
   "codemirror_mode": {
    "name": "ipython",
    "version": 3
   },
   "file_extension": ".py",
   "mimetype": "text/x-python",
   "name": "python",
   "nbconvert_exporter": "python",
   "pygments_lexer": "ipython3",
   "version": "3.13.7"
  }
 },
 "nbformat": 4,
 "nbformat_minor": 5
}
